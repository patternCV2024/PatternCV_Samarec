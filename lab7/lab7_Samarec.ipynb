{
 "cells": [
  {
   "cell_type": "markdown",
   "id": "bbc4e657",
   "metadata": {},
   "source": [
    "<a href=\"https://github.com/glebsamarec\">Самарец Глєб</a>, 2024"
   ]
  },
  {
   "attachments": {},
   "cell_type": "markdown",
   "id": "538a8c0a",
   "metadata": {},
   "source": [
    "#### <h1 align=\"center\">Лабораторна робота №7. Методи кластеризації (навчання без учителя)\n",
    "</h1>"
   ]
  },
  {
   "cell_type": "markdown",
   "id": "0939d964",
   "metadata": {},
   "source": [
    "<h2> Завдання для самостійної роботи </h2>"
   ]
  },
  {
   "cell_type": "markdown",
   "id": "eb40840d-eceb-4f15-a2a3-fa628b7c68e4",
   "metadata": {},
   "source": [
    "<ol>\n",
    "   <b> <li>1.Реалізувати всі алгоритми кластеризації, наведені в роботі, для свого варіанта, обгрунтувавши знаення відповідних параметрів.</li>\n",
    "\n",
    "</ol>\n",
    "<h2>Алгоритм K-середніх</h2> "
   ]
  },
  {
   "cell_type": "code",
   "execution_count": 8,
   "id": "b0812f73-9c24-464b-83c4-e86f7d5f7e1d",
   "metadata": {},
   "outputs": [
    {
     "data": {
      "image/png": "[encoded data removed]",
      "text/plain": [
       "<Figure size 640x480 with 1 Axes>"
      ]
     },
     "metadata": {},
     "output_type": "display_data"
    }
   ],
   "source": [
    "import numpy as np\n",
    "import matplotlib.pyplot as plt\n",
    "\n",
    "# Ваши данные\n",
    "x_train_2 = np.array([[34, 11],\n",
    "                      [34, 38],\n",
    "                      [40, 8],\n",
    "                      [42, 18],\n",
    "                      [33, 41],\n",
    "                      [39, 47],\n",
    "                      [11, 40],\n",
    "                      [21, 44],\n",
    "                      [19, 28],\n",
    "                      [49, 20]])\n",
    "\n",
    "y_train_2 = np.array([-1, -1, -1, 1, 1, 1, -1, 1, -1, 1])\n",
    "\n",
    "# Адаптация данных к формату исходного алгоритма\n",
    "x = x_train_2\n",
    "\n",
    "# Вычисление средних и дисперсий\n",
    "M = np.mean(x, axis=0)\n",
    "D = np.var(x, axis=0)\n",
    "\n",
    "# Определение количества кластеров\n",
    "K = len(np.unique(y_train_2))\n",
    "\n",
    "# Генерация начальных центров кластеров\n",
    "ma = [np.random.normal(M, np.sqrt(D / 10), 2) for n in range(K)]\n",
    "\n",
    "# Функция для вычисления евклидовой метрики\n",
    "ro = lambda x_vect, m_vect: np.mean((x_vect - m_vect) ** 2)\n",
    "\n",
    "# Колорирование кластеров\n",
    "COLORS = ('green', 'blue', 'brown', 'black')\n",
    "\n",
    "# Инициализация графика\n",
    "plt.ion()\n",
    "\n",
    "n = 0\n",
    "while n < 10:\n",
    "    X = [[] for i in range(K)]\n",
    "\n",
    "    for x_vect, y_label in zip(x, y_train_2):\n",
    "        r = [ro(x_vect, m) for m in ma]\n",
    "        X[np.argmin(r)].append(x_vect)\n",
    "\n",
    "    ma = [np.mean(xx, axis=0) for xx in X]\n",
    "\n",
    "    plt.clf()\n",
    "\n",
    "    # Отображение кластеров\n",
    "    for i in range(K):\n",
    "        xx = np.array(X[i]).T\n",
    "        plt.scatter(xx[0], xx[1], s=10, color=COLORS[i])\n",
    "\n",
    "    # Отображение центров кластеров\n",
    "    mx = [m[0] for m in ma]\n",
    "    my = [m[1] for m in ma]\n",
    "    plt.scatter(mx, my, s=50, color='red')\n",
    "\n",
    "    plt.draw()\n",
    "    plt.gcf().canvas.flush_events()\n",
    "\n",
    "    n += 1\n",
    "\n",
    "plt.ioff()\n",
    "plt.show()\n"
   ]
  },
  {
   "cell_type": "markdown",
   "id": "46888a6e-7f65-4630-850c-8f942c384836",
   "metadata": {},
   "source": [
    "<h2>Алгоритм DBSCAN</h2> "
   ]
  },
  {
   "cell_type": "code",
   "execution_count": 9,
   "id": "3e68148f-81a8-466e-8555-3b88aa54c878",
   "metadata": {},
   "outputs": [
    {
     "data": {
      "image/png": "[encoded data removed]",
      "text/plain": [
       "<Figure size 640x480 with 1 Axes>"
      ]
     },
     "metadata": {},
     "output_type": "display_data"
    }
   ],
   "source": [
    "from itertools import cycle\n",
    "from math import hypot\n",
    "import matplotlib.pyplot as plt\n",
    "\n",
    "def dbscan_naive(P, eps, m, distance):\n",
    "    NOISE = 0\n",
    "    C = 0\n",
    "\n",
    "    visited_points = set()\n",
    "    clustered_points = set()\n",
    "    clusters = {NOISE: []}\n",
    "\n",
    "    def region_query(p):\n",
    "        return [q for q in P if distance(p, q) < eps]\n",
    "\n",
    "    def expand_cluster(p, neighbours):\n",
    "        if C not in clusters:\n",
    "            clusters[C] = []\n",
    "        clusters[C].append(p)\n",
    "        clustered_points.add(p)\n",
    "        while neighbours:\n",
    "            q = neighbours.pop()\n",
    "            if q not in visited_points:\n",
    "                visited_points.add(q)\n",
    "                neighbourz = region_query(q)\n",
    "                if len(neighbourz) >= m:\n",
    "                    neighbours.extend(neighbourz)\n",
    "            if q not in clustered_points:\n",
    "                clustered_points.add(q)\n",
    "                clusters[C].append(q)\n",
    "                if q in clusters[NOISE]:\n",
    "                    clusters[NOISE].remove(q)\n",
    "\n",
    "    for p in P:\n",
    "        if p in visited_points:\n",
    "            continue\n",
    "        visited_points.add(p)\n",
    "        neighbours = region_query(p)\n",
    "        if len(neighbours) < m:\n",
    "            clusters[NOISE].append(p)\n",
    "        else:\n",
    "            C += 1\n",
    "            expand_cluster(p, neighbours)\n",
    "\n",
    "    return clusters\n",
    "\n",
    "P = [(64, 150), (84, 112), (106, 90), (154, 64), (192, 62), (220, 82), (244, 92), (271, 111), (275, 137), (286, 161), (56, 178), (80, 156), (101, 131), (123, 104), (155, 94), (191, 100), (242, 70), (231, 114), (272, 95), (261, 131), (299, 136), (308, 124), (128, 78), (47, 128), (47, 159), (137, 186), (166, 228), (171, 250), (194, 272), (221, 287), (253, 292), (308, 293), (332, 280), (385, 256), (398, 237), (413, 205), (435, 166), (447, 137), (422, 126), (400, 154), (389, 183), (374, 214), (358, 235), (321, 250), (274, 263), (249, 263), (208, 230), (192, 204), (182, 174), (147, 205), (136, 246), (147, 255), (182, 282), (204, 298), (252, 316), (312, 321), (349, 313), (393, 288), (417, 259), (434, 222), (443, 187), (463, 174)]\n",
    "\n",
    "# Розмір епсилон-околу\n",
    "eps = 60    \n",
    "# Мінімальна кількість об'єктів для повного епсилон-околу\n",
    "m = 5       \n",
    "\n",
    "clusters = dbscan_naive(P, eps, m, lambda x, y: hypot(x[0] - y[0], x[1] - y[1]))\n",
    "for c, points in zip(cycle('bgrcmykgrcmykgrcmykgrcmykgrcmykgrcmyk'), clusters.values()):\n",
    "    X = [p[0] for p in points]\n",
    "    Y = [p[1] for p in points]\n",
    "    plt.scatter(X, Y, c=c)\n",
    "plt.show()\n"
   ]
  },
  {
   "cell_type": "markdown",
   "id": "0aefb2bf-b8ca-4e4f-8fa6-ceadb6f8625f",
   "metadata": {},
   "source": [
    "<h2>Алгоритм K-середніх</h2> "
   ]
  },
  {
   "cell_type": "code",
   "execution_count": 10,
   "id": "aa2d7d66-0c95-4687-aceb-abcc5a63dff0",
   "metadata": {},
   "outputs": [
    {
     "data": {
      "image/png": "[encoded data removed]",
      "text/plain": [
       "<Figure size 640x480 with 1 Axes>"
      ]
     },
     "metadata": {},
     "output_type": "display_data"
    }
   ],
   "source": [
    "from itertools import cycle\n",
    "from scipy.cluster.hierarchy import dendrogram\n",
    "from sklearn.cluster import AgglomerativeClustering\n",
    "import numpy as np\n",
    "import matplotlib.pyplot as plt\n",
    "\n",
    "# вхідні зображення для кластеризації\n",
    "x = [(64, 150), (84, 112), (106, 90), (154, 64), (192, 62), (220, 82), (244, 92), (271, 111), (275, 137), (286, 161), (56, 178), (80, 156), (101, 131), (123, 104), (155, 94), (191, 100), (242, 70), (231, 114), (272, 95), (261, 131), (299, 136), (308, 124), (128, 78), (47, 128), (47, 159), (137, 186), (166, 228), (171, 250), (194, 272), (221, 287), (253, 292), (308, 293), (332, 280), (385, 256), (398, 237), (413, 205), (435, 166), (447, 137), (422, 126), (400, 154), (389, 183), (374, 214), (358, 235), (321, 250), (274, 263), (249, 263), (208, 230), (192, 204), (182, 174), (147, 205), (136, 246), (147, 255), (182, 282), (204, 298), (252, 316), (312, 321), (349, 313), (393, 288), (417, 259), (434, 222), (443, 187), (463, 174)]\n",
    "\n",
    "# Адаптация данных к формату, подходящему для sklearn\n",
    "x = np.array(x)\n",
    "\n",
    "NC = 3  # максимальна кількість кластерів (кінцевих)\n",
    "\n",
    "# агломеративна ієрархічна кластеризація\n",
    "clustering = AgglomerativeClustering(n_clusters=NC, linkage=\"ward\")\n",
    "x_pr = clustering.fit_predict(x)\n",
    "\n",
    "# відображення результату кластеризації\n",
    "for c, n in zip(cycle('bgrcmykgrcmykgrcmykgrcmykgrcmykgrcmyk'), range(NC)):\n",
    "    clst = x[x_pr == n].T\n",
    "    plt.scatter(clst[0], clst[1], s=10, color=c)\n",
    "\n",
    "plt.show()\n"
   ]
  },
  {
   "cell_type": "markdown",
   "id": "b81143b8",
   "metadata": {},
   "source": [
    "<h1 align=\"center\">Контрольні запитання</h1>"
   ]
  },
  {
   "cell_type": "markdown",
   "id": "bdeb7384",
   "metadata": {},
   "source": [
    "1.У чому полягає задача кластеризації та які її цілі?\n",
    "<br><br>\n",
    "   <b>\n",
    "Кластеризація полягає в групуванні схожих об'єктів у колекції. Мета полягає в тому, щоб об'єкти всередині одного кластера були якомога більш схожими між собою, а об'єкти між різними кластерами були якомога менш схожими. Основні цілі кластеризації включають в себе виявлення природних груп об'єктів у даних, розуміння структури даних та спрощення подальшого аналізу даних.\n",
    "</b>\n",
    "<br><br>\n",
    "2.Які критерії використовуються для оцінки якості розбиття об’єктів на групи у задачі кластеризації?\n",
    "  <br><br>\n",
    "   <b>\n",
    "  Критерії, які використовуються для оцінки якості кластеризації, можуть включати метрики внутрішнього та зовнішнього зв'язку. Деякі популярні метрики включають індекс силуету, додаткову дисперсію, кількість кластерів, довжину периметра та інші.\n",
    "  </b>\n",
    "   <br><br>\n",
    "3.Що таке задача часткового навчання в контексті кластеризації? У чому полягаєЯка ідея алгоритму k-середніх (k-means)? У чому полягаєновна ідея алгоритму DBSCANn.\n",
    "<br><br>\n",
    "<b> \n",
    "Задача часткового навчання в контексті кластеризації:\n",
    "Задача часткового навчання виникає, коли доступні лише деякі мітки класів для обмеженого підмножини даних. У контексті кластеризації це може означати, що ми маємо деякі мітки класів для об'єктів у деяких кластерах, але інші об'єкти можуть бути непозначеними. Мета полягає в тому, щоб використовувати ці обмежені мітки класів для навчання моделі кластеризації, щоб покращити якість розбиття.\n",
    "<br><br>\n",
    "Алгоритм k-середніх (k-means):\n",
    "Ключова ідея алгоритму k-середніх полягає в тому, щоб згрупувати об'єкти в k кластерів, мінімізуючи середній квадрат відстаней між кожним об'єктом і центром його кластера.\n",
    "<br><br>\n",
    "Алгоритм DBSCAN:\n",
    "DBSCAN (Density-Based Spatial Clustering of Applications with Noise) — це алгоритм кластеризації, який групує об'єкти у кластери на основі їх густини в просторі ознак. Основна ідея полягає в тому, щоб виявити області в просторі даних з високою густиністю, які відповідають кластерам, і розділити області з низькою густиністю або окремі точки як шум.\n",
    "</b>\n",
    "<br><br>\n",
    "4.Як можна скористатися засобами бібліотеки scikit-learn для реалізації алгоритму DBSCAN на Python?\n",
    "<br><br>\n",
    "   <b>\n",
    "Реалізація алгоритму DBSCAN за допомогою scikit-learn:\n",
    "Можна використати модуль sklearn.cluster.DBSCAN для реалізації алгоритму DBSCAN в Python засобами бібліотеки scikit-learn. Це дає можливість використовувати різні параметри, такі як радіус епсилон і мінімальна кількість сусідів, для налаштування алгоритму залежно від конкретних потреб.\n",
    "  </b>"
   ]
  },
  {
   "cell_type": "code",
   "execution_count": null,
   "id": "3a64e8a2-b41a-40f8-89f1-46ce46aa7bc3",
   "metadata": {},
   "outputs": [],
   "source": []
  }
 ],
 "metadata": {
  "kernelspec": {
   "display_name": "Python 3 (ipykernel)",
   "language": "python",
   "name": "python3"
  },
  "language_info": {
   "codemirror_mode": {
    "name": "ipython",
    "version": 3
   },
   "file_extension": ".py",
   "mimetype": "text/x-python",
   "name": "python",
   "nbconvert_exporter": "python",
   "pygments_lexer": "ipython3",
   "version": "3.12.2"
  }
 },
 "nbformat": 4,
 "nbformat_minor": 5
}
