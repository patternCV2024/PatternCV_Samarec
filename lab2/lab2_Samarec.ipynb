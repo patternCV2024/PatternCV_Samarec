{
 "cells": [
  {
   "cell_type": "markdown",
   "id": "bbc4e657",
   "metadata": {},
   "source": [
    "<a href=\"https://github.com/glebsamarec\">Самарец Глєб</a>, 2024"
   ]
  },
  {
   "attachments": {},
   "cell_type": "markdown",
   "id": "538a8c0a",
   "metadata": {},
   "source": [
    "# <h1 align=\"center\">Лабораторна робота №2. Побудова лінійного бінарного класифікатора на основі оптимізації функціонала якості\n",
    "</h1>"
   ]
  },
  {
   "cell_type": "markdown",
   "id": "0939d964",
   "metadata": {},
   "source": [
    "<h2> Завдання для самостійної роботи </h2>"
   ]
  },
  {
   "cell_type": "markdown",
   "id": "eb40840d-eceb-4f15-a2a3-fa628b7c68e4",
   "metadata": {},
   "source": [
    "<ol>\n",
    "    <li>Імпортував дані для навчальної вибірки згідно з індивідуальним варіантом .</li>\n",
    "    <li>Побудував бінарний МНК-класифікатор згідно з розглянутим прикладом і вивів результати бінарної класифікації на графіку.\n",
    "\n",
    "</ol>"
   ]
  },
  {
   "cell_type": "code",
   "execution_count": 2,
   "id": "eff9f093-0220-488a-98f2-f00c23b7e3c1",
   "metadata": {},
   "outputs": [
    {
     "name": "stdout",
     "output_type": "stream",
     "text": [
      "Варіант 17:\n",
      "[1.2, -1]\n"
     ]
    },
    {
     "data": {
      "image/png": "[encoded data removed]",
      "text/plain": [
       "<Figure size 640x480 with 1 Axes>"
      ]
     },
     "metadata": {},
     "output_type": "display_data"
    }
   ],
   "source": [
    "import numpy as np\n",
    "import matplotlib.pyplot as plt\n",
    "\n",
    "def classifier(x_train, y_train, variant):\n",
    "\n",
    "    change = True  # Змінна для перевірки змін у вагах\n",
    "    n_train = len(x_train)  # Розмір навчального набору даних\n",
    "    w = [0, -1]  # Початкове значення вектора ваги\n",
    "    a = lambda x: np.sign(x[0] * w[0] + x[1] * w[1])  # Правило класифікації\n",
    "    L = 0.1  # Крок зміни ваги\n",
    "    e = 0.1  # Невелика додаткова величина до w0, щоб забезпечити зазор між лінією розділення та областю\n",
    "    count = 0  # Лічильник ітерацій\n",
    "    last_error_index = -1  # Індекс останньої помилково класифікованої спостереження\n",
    "    while change and count < 100:\n",
    "        change = False\n",
    "        for i in range(n_train):  # Ітерація по спостереженням\n",
    "            if y_train[i] * a(x_train[i]) < 0:  # Якщо помилка класифікації,\n",
    "                w[0] = w[0] + L * y_train[i]  # То коригування ваги w0\n",
    "                last_error_index = i\n",
    "                change = True\n",
    "\n",
    "        Q = sum([1 for i in range(n_train) if y_train[i] * a(x_train[i]) < 0])\n",
    "        if Q == 0:  # Показник якості класифікації (кількість помилок)\n",
    "            break  # Зупинка, якщо всі класифікуються правильно\n",
    "        count += 1\n",
    "    if last_error_index > -1:\n",
    "        w[0] = w[0] + e * y_train[last_error_index]\n",
    "\n",
    "    print(f\"Варіант {variant}:\")  # Друк варіанту\n",
    "    print(w)\n",
    "\n",
    "    line_x = list(range(max(x_train[:, 0])))  # Створення графіка роздільної лінії\n",
    "    line_y = [w[0] * x for x in line_x]\n",
    "\n",
    "    x_0 = x_train[y_train == 1]  # Формування точок для першого класу\n",
    "    x_1 = x_train[y_train == -1]  # та другого класу\n",
    "\n",
    "    plt.scatter(x_0[:, 0], x_0[:, 1], color='red')\n",
    "    plt.scatter(x_1[:, 0], x_1[:, 1], color='blue')\n",
    "    plt.plot(line_x, line_y, color='green')\n",
    "\n",
    "    plt.xlim([0, 55])\n",
    "    plt.ylim([0, 55])\n",
    "    plt.ylabel(\"довжина\")\n",
    "    plt.xlabel(\"ширина\")\n",
    "    plt.grid(True)\n",
    "    plt.show()\n",
    "\n",
    "x_train_2 = np.array([[26, 41], [11, 28], [27, 48], [24, 31], [9, 48], [26, 24], [50, 38], [30, 41], [36, 35]])\n",
    "y_train_2 = np.array([-1, 1, -1, 1, -1, 1, 1, 1, -1])\n",
    "variant = 17\n",
    "classifier(x_train_2, y_train_2, variant)\n"
   ]
  },
  {
   "cell_type": "markdown",
   "id": "b81143b8",
   "metadata": {},
   "source": [
    "<h1 align=\"center\">Контрольні запитання</h1>"
   ]
  },
  {
   "cell_type": "markdown",
   "id": "bdeb7384",
   "metadata": {},
   "source": [
    "1.Що таке відступ (margin) і яка його роль в побудові моделі класифікації? <br><br>\n",
    "   <b>\n",
    "   Відступ (margin) - це відстань від точки даних до роздільної гіперплощини у моделі класифікації. Роль відступу полягає в тому, що він визначає міру впевненості моделі у правильності класифікації об'єкта. Більший відступ вказує на більш впевнену класифікацію, тоді як менший відступ може свідчити про більшу невпевненість.\n",
    "   </b><br><br>\n",
    "2.Яка роль функції втрат і чому не можна знайти коефіцієнти лінійного класифікатора шляхом безпосереднього розв'язаня задачі оптимізації через знаходження похідної? <br><br>\n",
    "   <b>\n",
    "Функція втрат - це функція, яка вимірює рівень помилок між прогнозованими значеннями моделі та фактичними значеннями у навчальних даних. Роль функції втрат полягає в тому, щоб навчити модель шукати оптимальні значення параметрів, які мінімізують ці помилки. Безпосереднє розв'язання задачі оптимізації через знаходження похідної не завжди можливе через нелінійність та складність функції втрат.\n",
    "  </b><br><br>\n",
    "3.Чим приницпово розрізняється алгоритм, розглянутий у цій роботі від алгоритму, розглянутого у лаб. роб 1?<br><br>\n",
    "   <b>\n",
    "  Обидва наведені алгоритми виглядають подібно, але вони різняться в своїй функціональності та цілях:\n",
    "\n",
    "Перший алгоритм:\n",
    "\n",
    "-Генерує перший варіант даних x_train_1 та y_train_1.<br>\n",
    "-Генерує додаткові варіанти даних (від 2-го до 15-го).<br>\n",
    "-У кожному додатковому варіанті перевіряється, чи міститься він вже в x_train_1, і якщо так, то видаляється перетин, а результати виводяться.<br>\n",
    "-Після генерації всіх додаткових варіантів, виводяться всі дані, включаючи перший варіант та всі додаткові.<br>\n",
    "\n",
    "Другий алгоритм:\n",
    "\n",
    "-Також генерує перший варіант даних x_train_1 та y_train_1. <br>\n",
    "-Також генерує додаткові варіанти даних (від 2-го до 15-го). <br>\n",
    "-У кожному додатковому варіанті також перевіряється, чи міститься він вже в x_train_1, і якщо так, то видаляється перетин. <br>\n",
    "-Після генерації всіх додаткових варіантів виводяться лише дані для кожного додаткового варіанту, не включаючи перший варіант. <br>\n",
    "\n",
    "Отже, основна різниця полягає в тому, що перший алгоритм виводить усі дані (включаючи перший варіант та всі додаткові), тоді як другий алгоритм виводить лише дані для кожного додаткового варіанту, інші дані не включаються.\n",
    "</b><br><br>\n",
    "4.Вивести математичний вираз для оцінки вектора $\\omega$?\n",
    "<br><br>\n",
    "   <b>Оцінка вектора **ω** в алгоритмі персептрона проводиться через ітераційний процес навчання, де змінні ваги оновлюються на кожному кроці. Однак, математично, можна виразити оцінку вектора **ω** на основі даних та навчальних міток.\n",
    "\n",
    "Основна ідея полягає у тому, що вектор **ω** повинен бути таким, що правильно класифікує всі точки навчального набору даних. Це означає, що для кожної точки **(xi, yi)**, де **xi** - вектор ознак, а **yi** - мітка класу (-1 або 1), має виконуватися:\n",
    "\n",
    "yi (ω · xi) > 0\n",
    "\n",
    "де **·** позначає скалярний добуток.\n",
    "\n",
    "Отже, можна сформулювати наступний математичний вираз для оцінки вектора **ω**:\n",
    "\n",
    "**ω** = arg min_ω Σ_i=1^n (yi (ω · xi))\n",
    "\n",
    "де **n** - кількість точок у навчальному наборі даних.\n",
    "\n",
    "Цей вираз вказує на те, що вектор **ω** вибирається таким чином, щоб мінімізувати суму значень yi (ω · xi) для всіх точок навчального набору даних.\n",
    "  </b>\n"
   ]
  },
  {
   "cell_type": "code",
   "execution_count": null,
   "id": "dfb2b8d9-694b-4d7e-83e1-677908b44040",
   "metadata": {},
   "outputs": [],
   "source": []
  }
 ],
 "metadata": {
  "kernelspec": {
   "display_name": "Python 3 (ipykernel)",
   "language": "python",
   "name": "python3"
  },
  "language_info": {
   "codemirror_mode": {
    "name": "ipython",
    "version": 3
   },
   "file_extension": ".py",
   "mimetype": "text/x-python",
   "name": "python",
   "nbconvert_exporter": "python",
   "pygments_lexer": "ipython3",
   "version": "3.12.2"
  }
 },
 "nbformat": 4,
 "nbformat_minor": 5
}
