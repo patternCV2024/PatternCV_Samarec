{
 "cells": [
  {
   "cell_type": "markdown",
   "id": "bbc4e657",
   "metadata": {},
   "source": [
    "<a href=\"https://github.com/glebsamarec\">Самарец Глєб</a>, 2024"
   ]
  },
  {
   "cell_type": "markdown",
   "id": "538a8c0a",
   "metadata": {},
   "source": [
    "## Домашнє завдання"
   ]
  },
  {
   "cell_type": "markdown",
   "id": "ab1b242d",
   "metadata": {},
   "source": [
    "Розв'яжіть наступний комплекс задач. Складіть систему лінійних рівнянь і розв'яжіть її за допомогою модуля numpy"
   ]
  },
  {
   "cell_type": "markdown",
   "id": "739f7e33",
   "metadata": {},
   "source": [
    "## Задача 1\n",
    "\n",
    "Вкладник поклав 50 000 умовних одиниць на три різних рахунки в три різних банки.\n",
    "\n",
    "- Перший рахунок: 5% річних.\n",
    "- Другий рахунок: 7% річних.\n",
    "- Третій рахунок: 6% річних.\n",
    "\n",
    "Відомо, що через рік вкладник отримав:\n",
    "- З першого та другого банку - 2250 у.е.\n",
    "- З першого та третього банку - 1400 у.е.\n",
    "\n",
    "Скільки умовних одиниць він поклав на кожен рахунок спочатку?"
   ]
  },
  {
   "cell_type": "markdown",
   "id": "dd13c47d",
   "metadata": {},
   "source": [
    "### Розв'язання\n",
    "\n",
    "Позначимо x, y, і z суми, які вкладник поклав на перший, другий і третій рахунки відповідно.\n",
    "\n",
    "Отже, ми маємо такі рівняння:\n",
    "\n",
    "1. 0.05x + 0.07y = 2250\n",
    "2. 0.05x + 0.06z = 1400\n",
    "3. x + y + z = 50000\n",
    "\n",
    "Тепер ми можемо розв'язати цю систему рівнянь за допомогою модуля numpy в Python:"
   ]
  },
  {
   "cell_type": "code",
   "execution_count": 32,
   "id": "8113739c",
   "metadata": {},
   "outputs": [
    {
     "name": "stdout",
     "output_type": "stream",
     "text": [
      "Сума на першому рахунку: 10000.0 умовних одиниць\n",
      "Сума на другому рахунку: 25000.0 умовних одиниць\n",
      "Сума на третьому рахунку: 15000.0 умовних одиниць\n"
     ]
    }
   ],
   "source": [
    "import numpy as np\n",
    "\n",
    "# Коефіцієнти перед змінними\n",
    "coefficients = np.array([[0.05, 0.07, 0],\n",
    "                         [0.05, 0,    0.06],\n",
    "                         [1,    1,    1]])\n",
    "\n",
    "# Результати рівнянь\n",
    "results = np.array([2250, 1400, 50000])\n",
    "\n",
    "# Розв'язок системи рівнянь\n",
    "solution = np.linalg.solve(coefficients, results)\n",
    "\n",
    "# Виведемо розв'язок\n",
    "print(\"Сума на першому рахунку:\", round(solution[0], 2), \"умовних одиниць\")\n",
    "print(\"Сума на другому рахунку:\", round(solution[1], 2), \"умовних одиниць\")\n",
    "print(\"Сума на третьому рахунку:\", round(solution[2], 2), \"умовних одиниць\")\n"
   ]
  },
  {
   "cell_type": "markdown",
   "id": "1fdf713b",
   "metadata": {},
   "source": [
    "## Задача 2\n",
    "На складі зберігаються мобільні телефони iPhone 6, iPhone 11, iPhone 12 моделей.\n",
    "\n",
    "- Всього 1328 екземплярів.\n",
    "- Моделей iPhone 6 на 120 менше, ніж моделей iPhone 11.\n",
    "- Моделей iPhone 6 на 100 більше, ніж моделей iPhone 12.\n",
    "- Скільки моделей кожного виду на складі?"
   ]
  },
  {
   "cell_type": "markdown",
   "id": "4a98f302",
   "metadata": {},
   "source": [
    "### Розв'язання\n",
    "Позначимо кількість моделей iPhone 6, iPhone 11 і iPhone 12 відповідно як x, y і z.\n",
    "\n",
    "Ми знаємо:\n",
    "\n",
    "1. x + y + z = 1328 (загальна кількість моделей)\n",
    "2. x = y - 120 (моделей iPhone 6 на 120 менше, ніж моделей iPhone 11)\n",
    "3. x = z + 100 (моделей iPhone 6 на 100 більше, ніж моделей iPhone 12)\n",
    "\n",
    "Вирішимо цю систему рівнянь за допомогою бібліотеки numpy в Python:"
   ]
  },
  {
   "cell_type": "code",
   "execution_count": 33,
   "id": "0d9300fb",
   "metadata": {},
   "outputs": [
    {
     "name": "stdout",
     "output_type": "stream",
     "text": [
      "Кількість iPhone 6: 436\n",
      "Кількість iPhone 11: 556\n",
      "Кількість iPhone 12: 336\n"
     ]
    }
   ],
   "source": [
    "import numpy as np\n",
    "\n",
    "# Коефіцієнти перед змінними в системі рівнянь\n",
    "coefficients = np.array([[1, 1, 1], [1, -1, 0], [1, 0, -1]])\n",
    "\n",
    "# Константи в системі рівнянь\n",
    "constants = np.array([1328, -120, 100])\n",
    "\n",
    "# Розв'язання системи рівнянь\n",
    "solution = np.linalg.solve(coefficients, constants)\n",
    "\n",
    "# Округлення значень до цілих чисел\n",
    "solution = np.round(solution).astype(int)\n",
    "\n",
    "print(\"Кількість iPhone 6:\", solution[0])\n",
    "print(\"Кількість iPhone 11:\", solution[1])\n",
    "print(\"Кількість iPhone 12:\", solution[2])\n"
   ]
  },
  {
   "cell_type": "markdown",
   "id": "3cb00c7f",
   "metadata": {},
   "source": [
    "## Задача 3\n",
    "Складіть канонічне рівняння еліпсоїда, що проходить через три точки A, B, C:\n",
    "\n",
    "$$\n",
    "A(\\sqrt3; 0; \\sqrt3), B(\\sqrt6; \\frac{1}{2}; 0), C(1; \\frac{1}{\\sqrt3}; 1)\n",
    "$$\n",
    "\n",
    "Канонічне рівняння еліпсоїда в прямокутній декартовій системі координат має вид:\n",
    "\n",
    "$$\n",
    "\\frac{x^2}{a^2} + \\frac{y^2}{b^2} + \\frac{z^2}{c^2} = 1\n",
    "$$\n",
    "\n",
    "Задача полягає у визначенні параметрів: $$a^2, b^2, c^2 $$"
   ]
  },
  {
   "cell_type": "markdown",
   "id": "896c5a3c",
   "metadata": {},
   "source": [
    "### Розв'язання\n",
    "\n",
    "Для початку, визначимо рівняння еліпса, використовуючи відомі точки \\( A \\), \\( B \\), \\( C \\). Рівняння еліпса в канонічній формі має вигляд:\n",
    "\n",
    "$$\n",
    "\\frac{x^2}{a^2} + \\frac{y^2}{b^2} + \\frac{z^2}{c^2} = 1\n",
    "$$\n",
    "\n",
    "Підставимо координати точок \\( A \\), \\( B \\), \\( C \\) в це рівняння і вирішимо систему рівнянь для знаходження параметрів \\( a^2 \\), \\( b^2 \\), \\( c^2 \\).\n",
    "\n",
    "\n",
    "\\begin{cases}\n",
    "\\frac{(\\sqrt3)^2}{a^2} + \\frac{0^2}{b^2} + \\frac{(\\sqrt3)^2}{c^2} = 1 \\\\\n",
    "\\frac{(\\sqrt6)^2}{a^2} + \\frac{\\frac{1}{2}^2}{b^2} + \\frac{0^2}{c^2} = 1 \\\\\n",
    "\\frac{1^2}{a^2} + \\frac{\\frac{1}{\\sqrt3}^2}{b^2} + \\frac{1^2}{c^2} = 1 \\\\\n",
    "\\end{cases}\n",
    "\n",
    "\n",
    "Розв'яжемо цю систему рівнянь за допомогою NumPy."
   ]
  },
  {
   "cell_type": "code",
   "execution_count": 34,
   "id": "87fb786b",
   "metadata": {},
   "outputs": [
    {
     "name": "stdout",
     "output_type": "stream",
     "text": [
      "a^2 = 0.08333333333333338\n",
      "b^2 = 1.9999999999999993\n",
      "c^2 = 0.25\n"
     ]
    }
   ],
   "source": [
    "import numpy as np\n",
    "\n",
    "# Координати точок A, B, C\n",
    "A = np.array([np.sqrt(3), 0, np.sqrt(3)])\n",
    "B = np.array([np.sqrt(6), 1/2, 0])\n",
    "C = np.array([1, 1/np.sqrt(3), 1])\n",
    "\n",
    "# Формування матриці коефіцієнтів системи рівнянь\n",
    "coefficients_matrix = np.array([[A[0]**2, 0, A[2]**2],\n",
    "                                [B[0]**2, (1/2)**2, 0],\n",
    "                                [1, (1/np.sqrt(3))**2, 1]])\n",
    "\n",
    "# Вектор вільних членів\n",
    "constants_vector = np.array([1, 1, 1])\n",
    "\n",
    "# Розв'язок системи рівнянь\n",
    "solution = np.linalg.solve(coefficients_matrix, constants_vector)\n",
    "\n",
    "# Виведення результату\n",
    "print(\"a^2 =\", solution[0])\n",
    "print(\"b^2 =\", solution[1])\n",
    "print(\"c^2 =\", solution[2])\n"
   ]
  },
  {
   "cell_type": "markdown",
   "id": "9f39fa87",
   "metadata": {},
   "source": [
    "## Задача 4\n",
    "\n",
    "**Складіть рівняння параболи, що проходить через три задані точки:**\n",
    "\n",
    "* (1, 12)\n",
    "* (3, 54)\n",
    "* (-1, 2)\n",
    "\n",
    "**Необхідно знайти коефіцієнти рівняння:**\n",
    "\n",
    "$$\n",
    "y = a \\cdot x^2 + b \\cdot x + c\n",
    "$$"
   ]
  },
  {
   "cell_type": "markdown",
   "id": "3ddebf77",
   "metadata": {},
   "source": [
    "### Розв'язання\n",
    "Спочатку створимо матрицю, де кожен рядок представляє координати x і y кожної точки, а останній стовпець заповнений одиницями (для коефіцієнта c). Після цього ми зможемо використати функцію numpy.linalg.solve() для знаходження коефіцієнтів.\n",
    "\n",
    "Ось як це можна зробити в коді Python з використанням NumPy:"
   ]
  },
  {
   "cell_type": "code",
   "execution_count": 35,
   "id": "53217b64",
   "metadata": {},
   "outputs": [
    {
     "name": "stdout",
     "output_type": "stream",
     "text": [
      "Коефіцієнти рівняння параболи:\n",
      "a = 4.000000000000002\n",
      "b = 4.9999999999999964\n",
      "c = 2.9999999999999964\n"
     ]
    }
   ],
   "source": [
    "import numpy as np\n",
    "\n",
    "# Задані точки\n",
    "points = np.array([[1, 1, 12],\n",
    "                   [3, 1, 54],\n",
    "                   [-1, 1, 2]])\n",
    "\n",
    "# Виділення координат x і y\n",
    "x = points[:, 0]\n",
    "y = points[:, 2]\n",
    "\n",
    "# Створення матриці для коефіцієнтів\n",
    "A = np.vstack([x**2, x, np.ones(len(x))]).T\n",
    "\n",
    "# Знаходження коефіцієнтів параболи\n",
    "a, b, c = np.linalg.lstsq(A, y, rcond=None)[0]\n",
    "\n",
    "# Виведення коефіцієнтів\n",
    "print(\"Коефіцієнти рівняння параболи:\")\n",
    "print(\"a =\", a)\n",
    "print(\"b =\", b)\n",
    "print(\"c =\", c)\n"
   ]
  },
  {
   "cell_type": "markdown",
   "id": "b69990ce",
   "metadata": {},
   "source": [
    "## Задача 5\n",
    "\n",
    "**Створіть функцію `get_polynom`, яка приймає набір точок виду:**\n",
    "\n",
    "$$\n",
    "(x_1, y_1), (x_2, y_2), ..., (x_{n+1}, y_{n+1})\n",
    "$$\n",
    "\n",
    "**і знаходить коефіцієнти многочлена n-го ступеня.**\n",
    "\n",
    "```python\n",
    "import numpy as np\n",
    "\n",
    "\n",
    "def get_polynom(coords):\n",
    "    ...\n",
    "    return np.linalg.solve(a, b)\n",
    "```"
   ]
  },
  {
   "cell_type": "markdown",
   "id": "0755f9ad",
   "metadata": {},
   "source": [
    "### Розв'язання\n",
    "\n",
    "Щоб розв'язати цю задачу за допомогою бібліотеки NumPy, ми можемо скористатися методом найменших квадратів для побудови поліноміальної апроксимації. Для цього ми спочатку створимо матрицю системи рівнянь, а потім вирішимо її за допомогою функції np.linalg.solve.\n",
    "\n",
    "Ось як це можна зробити:"
   ]
  },
  {
   "cell_type": "code",
   "execution_count": 37,
   "id": "e3170e1f",
   "metadata": {},
   "outputs": [
    {
     "name": "stdout",
     "output_type": "stream",
     "text": [
      "Коефіцієнти многочлена: [ 3.         -2.33333333  1.5        -0.16666667]\n"
     ]
    }
   ],
   "source": [
    "import numpy as np\n",
    "\n",
    "def get_polynom(coords):\n",
    "    n = len(coords) - 1  # степінь многочлена\n",
    "\n",
    "    # Створення матриці системи рівнянь (матриця коефіцієнтів)\n",
    "    A = np.zeros((n + 1, n + 1))\n",
    "    b = np.zeros(n + 1)\n",
    "    for i in range(n + 1):\n",
    "        x, y = coords[i]\n",
    "        b[i] = y\n",
    "        for j in range(n + 1):\n",
    "            A[i, j] = x ** j\n",
    "\n",
    "    # Розв'язання системи рівнянь\n",
    "    coeffs = np.linalg.solve(A, b)\n",
    "    \n",
    "    return coeffs\n",
    "\n",
    "# Приклад використання:\n",
    "coords = [(1, 2), (2, 3), (3, 5), (4, 7)]\n",
    "coefficients = get_polynom(coords)\n",
    "print(\"Коефіцієнти многочлена:\", coefficients)\n"
   ]
  }
 ],
 "metadata": {
  "kernelspec": {
   "display_name": "Python 3 (ipykernel)",
   "language": "python",
   "name": "python3"
  },
  "language_info": {
   "codemirror_mode": {
    "name": "ipython",
    "version": 3
   },
   "file_extension": ".py",
   "mimetype": "text/x-python",
   "name": "python",
   "nbconvert_exporter": "python",
   "pygments_lexer": "ipython3",
   "version": "3.8.8"
  }
 },
 "nbformat": 4,
 "nbformat_minor": 5
}
